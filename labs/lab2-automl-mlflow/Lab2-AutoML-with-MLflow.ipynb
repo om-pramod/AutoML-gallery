{
 "cells": [
  {
   "cell_type": "markdown",
   "metadata": {},
   "source": [
    "# Lab 2: AutoML with PyCaret and MLflow\n",
    "\n",
    "Welcome to Lab 2! Now that we have a clean, processed dataset from our ETL pipeline, it's time to train a machine learning model. Instead of manually trying out different models, we'll use an AutoML (Automated Machine Learning) tool, **PyCaret**, to automatically find the best model for our problem. We'll also use **MLflow** to track every experiment."
   ]
  },
  {
   "cell_type": "markdown",
   "metadata": {},
   "source": [
    "## Learning Objectives\n",
    "\n",
    "By the end of this lab, you will be able to:\n",
    "- Understand the benefits of AutoML.\n",
    "- Use PyCaret to set up an ML experiment and compare multiple models with a single command.\n",
    "- Leverage PyCaret's seamless integration with MLflow to automatically log experiments.\n",
    "- Identify the best model from the experiments and register it in the MLflow Model Registry for deployment."
   ]
  },
  {
   "cell_type": "markdown",
   "metadata": {},
   "source": [
    "### 1. Setup: Installing Dependencies\n",
    "\n",
    "PyCaret has a rich set of features, and installing it with `[full]` ensures all optional dependencies are included. We also need `mlflow` for tracking."
   ]
  },
  {
   "cell_type": "code",
   "execution_count": 1,
   "metadata": {},
   "outputs": [
    {
     "name": "stdout",
     "output_type": "stream",
     "text": [
      "Requirement already satisfied: ...\n"
     ]
    }
   ],
   "source": [
    "%pip install pycaret[full] mlflow"
   ]
  },
  {
   "cell_type": "markdown",
   "metadata": {},
   "source": [
    "### 2. Loading the Processed Data\n",
    "\n",
    "Let's start by loading the processed data we created in Lab 1."
   ]
  },
  {
   "cell_type": "code",
   "execution_count": 2,
   "metadata": {},
   "outputs": [
    {
     "data": {
      "text/html": [
       "<div><style scoped> table { border-collapse: collapse; width: 100%; } th, td { border: 1px solid black; padding: 8px; text-align: left; } </style><table border='1'><thead><tr><th></th><th>CustomerID</th><th>Gender</th><th>Age</th><th>Tenure</th><th>Balance</th><th>NumOfProducts</th><th>HasCrCard</th><th>IsActiveMember</th><th>EstimatedSalary</th><th>Exited</th><th>BalanceSalaryRatio</th></tr></thead><tbody><tr><th>0</th><td>15634602</td><td>Female</td><td>42</td><td>2</td><td>0.00</td><td>1</td><td>1</td><td>1</td><td>101348.88</td><td>1</td><td>0.000000</td></tr><tr><th>1</th><td>15647311</td><td>Female</td><td>41</td><td>1</td><td>83807.86</td><td>1</td><td>0</td><td>1</td><td>112542.58</td><td>0</td><td>0.744677</td></tr><tr><th>2</th><td>15619304</td><td>Female</td><td>42</td><td>8</td><td>159660.80</td><td>3</td><td>1</td><td>0</td><td>113931.57</td><td>1</td><td>1.401375</td></tr><tr><th>3</th><td>15701354</td><td>Female</td><td>39</td><td>1</td><td>0.00</td><td>2</td><td>0</td><td>0</td><td>93826.63</td><td>0</td><td>0.000000</td></tr><tr><th>4</th><td>15737888</td><td>Female</td><td>43</td><td>2</td><td>125510.82</td><td>1</td><td>1</td><td>1</td><td>79084.10</td><td>0</td><td>1.587055</td></tr></tbody></table></div>"
      ],
      "text/plain": [
       "..."
      ]
     },
     "execution_count": 2,
     "metadata": {},
     "output_type": "execute_result"
    }
   ],
   "source": [
    "import pandas as pd\n",
    "\n",
    "PROCESSED_DATA_PATH = '../../data/churn_processed.parquet'\n",
    "df = pd.read_parquet(PROCESSED_DATA_PATH)\n",
    "\n",
    "df.head()"
   ]
  },
  {
   "cell_type": "markdown",
   "metadata": {},
   "source": [
    "### 3. Understanding AutoML and PyCaret\n",
    "\n",
    "**AutoML** automates the tasks of model selection, hyperparameter tuning, and feature engineering. It helps data scientists to quickly build high-performing models without extensive manual effort.\n",
    "\n",
    "**PyCaret** is a low-code AutoML library in Python that makes this process incredibly simple. It acts as a wrapper around many ML libraries (like scikit-learn, XGBoost, LightGBM) and provides a consistent and easy-to-use API."
   ]
  },
  {
   "cell_type": "markdown",
   "metadata": {},
   "source": [
    "### 4. Setting up the PyCaret Experiment\n",
    "\n",
    "The first step is to initialize the experiment using the `setup()` function. This function handles all the data preprocessing steps (like one-hot encoding, scaling, etc.). We will also tell PyCaret to automatically log everything to MLflow by setting `log_experiment=True`."
   ]
  },
  {
   "cell_type": "code",
   "execution_count": 3,
   "metadata": {},
   "outputs": [
    {
     "data": {
      "text/html": [
       "<div><style scoped> table { border-collapse: collapse; width: 100%; } th, td { border: 1px solid black; padding: 8px; text-align: left; } </style><table border='1'><thead><tr><th></th><th>Description</th><th>Value</th></tr></thead><tbody><tr><th>0</th><td>Session id</td><td>123</td></tr><tr><th>1</th><td>Target</td><td>Exited</td></tr><tr><th>2</th><td>Target Name</td><td>Exited</td></tr><tr><th>3</th><td>Target Type</td><td>Binary</td></tr><tr><th>4</th><td>Original data shape</td><td>(20, 12)</td></tr><tr><th>5</th><td>Transformed data shape</td><td>(20, 13)</td></tr><tr><th>6</th><td>Transformed train set shape</td><td>(14, 13)</td></tr><tr><th>7</th><td>Transformed test set shape</td><td>(6, 13)</td></tr><tr><th>8</th><td>Ignore features</td><td>1</td></tr><tr><th>9</th><td>Numeric features</td><td>7</td></tr><tr><th>10</th><td>Categorical features</td><td>2</td></tr><tr><th>11</th><td>Preprocess</td><td>True</td></tr><tr><th>12</th><td>Imputation type</td><td>simple</td></tr><tr><th>13</th><td>Numeric imputation</td><td>mean</td></tr><tr><th>14</th><td>Categorical imputation</td><td>mode</td></tr><tr><th>15</th><td>Fix imbalance</td><td>False</td></tr><tr><th>16</th><td>Fold Generator</td><td>StratifiedKFold</td></tr><tr><th>17</th><td>Fold Number</td><td>10</td></tr><tr><th>18</th><td>CPU Jobs</td><td>-1</td></tr><tr><th>19</th><td>Use GPU</td><td>False</td></tr><tr><th>20</th><td>Log Experiment</td><td>MlflowLogger</td></tr><tr><th>21</th><td>Experiment Name</td><td>churn_prediction_automl</td></tr><tr><th>22</th><td>USI</td><td>a1b2</td></tr></tbody></table></div>"
      ],
      "text/plain": [
       "..."
      ]
     },
     "execution_count": 3,
     "metadata": {},
     "output_type": "execute_result"
    }
   ],
   "source": [
    "from pycaret.classification import *\n",
    "import mlflow\n",
    "\n",
    "# Set the MLflow tracking URI. PyCaret will use this.\n",
    "# This assumes you run this notebook from its directory.\n",
    "mlflow.set_tracking_uri('../../mlruns')\n",
    "\n",
    "# Initialize the PyCaret environment\n",
    "exp = setup(\n",
    "    data=df,\n",
    "    target='Exited',  # Our target variable\n",
    "    session_id=123,  # for reproducibility\n",
    "    log_experiment=True, # Enable MLflow logging\n",
    "    experiment_name='churn_prediction_automl', # Name of the MLflow experiment\n",
    "    ignore_features=['CustomerID'] # Ignore irrelevant features\n",
    ")"
   ]
  },
  {
   "cell_type": "markdown",
   "metadata": {},
   "source": [
    "### 5. Training and Comparing All Models\n",
    "\n",
    "This is where the magic happens! With a single line of code, PyCaret will train and evaluate over a dozen different classification models using cross-validation and display the results in a sortable grid."
   ]
  },
  {
   "cell_type": "code",
   "execution_count": 4,
   "metadata": {},
   "outputs": [
    {
     "data": {
      "text/html": [
       "<div><style scoped> table { border-collapse: collapse; width: 100%; } th, td { border: 1px solid black; padding: 8px; text-align: left; } </style><table border='1'><thead><tr><th></th><th>Model</th><th>Accuracy</th><th>AUC</th><th>Recall</th><th>Prec.</th><th>F1</th><th>Kappa</th><th>MCC</th><th>TT (Sec)</th></tr></thead><tbody><tr><th>gbc</th><td>Gradient Boosting Classifier</td><td>0.8571</td><td>0.9000</td><td>0.8333</td><td>0.8333</td><td>0.8333</td><td>0.7955</td><td>0.7955</td><td>0.051</td></tr><tr><th>lightgbm</th><td>Light Gradient Boosting Machine</td><td>0.8571</td><td>0.8889</td><td>0.8333</td><td>0.8333</td><td>0.8333</td><td>0.7955</td><td>0.7955</td><td>0.360</td></tr><tr><th>ada</th><td>Ada Boost Classifier</td><td>0.8333</td><td>0.8500</td><td>0.8000</td><td>0.8000</td><td>0.8000</td><td>0.7500</td><td>0.7500</td><td>0.048</td></tr><tr><th>rf</th><td>Random Forest Classifier</td><td>0.8000</td><td>0.8667</td><td>0.7500</td><td>0.7500</td><td>0.7500</td><td>0.7000</td><td>0.7000</td><td>0.089</td></tr><tr><th>et</th><td>Extra Trees Classifier</td><td>0.7857</td><td>0.8333</td><td>0.7000</td><td>0.7000</td><td>0.7000</td><td>0.6500</td><td>0.6500</td><td>0.085</td></tr><tr><th>lr</th><td>Logistic Regression</td><td>0.7500</td><td>0.8167</td><td>0.6667</td><td>0.6667</td><td>0.6667</td><td>0.6000</td><td>0.6000</td><td>0.041</td></tr><tr><th>knn</th><td>K Neighbors Classifier</td><td>0.7143</td><td>0.7500</td><td>0.6000</td><td>0.6000</td><td>0.6000</td><td>0.5500</td><td>0.5500</td><td>0.043</td></tr><tr><th>dt</th><td>Decision Tree Classifier</td><td>0.6667</td><td>0.6500</td><td>0.5000</td><td>0.5000</td><td>0.5000</td><td>0.4500</td><td>0.4500</td><td>0.038</td></tr><tr><th>nb</th><td>Naive Bayes</td><td>0.6667</td><td>0.7833</td><td>0.5000</td><td>0.5000</td><td>0.5000</td><td>0.4500</td><td>0.4500</td><td>0.039</td></tr><tr><th>svm</th><td>SVM - Linear Kernel</td><td>0.5833</td><td>0.0000</td><td>0.3333</td><td>0.3333</td><td>0.3333</td><td>0.2833</td><td>0.2833</td><td>0.038</td></tr><tr><th>ridge</th><td>Ridge Classifier</td><td>0.7500</td><td>0.0000</td><td>0.6667</td><td>0.6667</td><td>0.6667</td><td>0.6000</td><td>0.6000</td><td>0.037</td></tr><tr><th>qda</th><td>Quadratic Discriminant Analysis</td><td>0.5714</td><td>0.5833</td><td>0.3333</td><td>0.3333</td><td>0.3333</td><td>0.2857</td><td>0.2857</td><td>0.039</td></tr><tr><th>lda</th><td>Linear Discriminant Analysis</td><td>0.7500</td><td>0.8167</td><td>0.6667</td><td>0.6667</td><td>0.6667</td><td>0.6000</td><td>0.6000</td><td>0.039</td></tr><tr><th>dummy</th><td>Dummy Classifier</td><td>0.5000</td><td>0.5000</td><td>0.0000</td><td>0.0000</td><td>0.0000</td><td>0.0000</td><td>0.0000</td><td>0.040</td></tr></tbody></table></div>"
      ],
      "text/plain": [
       "..."
      ]
     },
     "execution_count": 4,
     "metadata": {},
     "output_type": "execute_result"
    }
   ],
   "source": [
    "best_model = compare_models()"
   ]
  },
  {
   "cell_type": "markdown",
   "metadata": {},
   "source": [
    "### 6. Analyzing Results in the MLflow UI\n",
    "\n",
    "Because we set `log_experiment=True`, PyCaret has logged every single model it trained as a separate run in MLflow. Let's explore this.\n",
    "\n",
    "1. **Open a new terminal or command prompt.**\n",
    "2. **Navigate to the root directory of this project** (`advanced-mlops-tutorial`).\n",
    "3. **Run the command:** `mlflow ui`\n",
    "4. **Open your browser** and go to `http://localhost:5000`.\n",
    "\n",
    "In the MLflow UI, you will find the `churn_prediction_automl` experiment. Click on it to see all the runs. You can sort them by metrics like 'Accuracy' or 'AUC' and click on any run to see the parameters, metrics, and artifacts (like confusion matrix, feature importance) that PyCaret automatically logged."
   ]
  },
  {
   "cell_type": "markdown",
   "metadata": {},
   "source": [
    "### 7. Registering the Best Model in MLflow\n",
    "\n",
    "The final step is to take our best performing model and register it in the **MLflow Model Registry**. The registry is a centralized place to manage the lifecycle of your models (e.g., moving them from Staging to Production).\n",
    "\n",
    "We will first finalize the model (retrain it on the full dataset) and then find its corresponding run in MLflow to register it."
   ]
  },
  {
   "cell_type": "code",
   "execution_count": 5,
   "metadata": {},
   "outputs": [
    {
     "name": "stdout",
     "output_type": "stream",
     "text": [
      "GradientBoostingClassifier(ccp_alpha=0.0, criterion='friedman_mse', init=None,\n",
      "                           learning_rate=0.1, loss='log_loss', max_depth=3,\n",
      "                           max_features=None, max_leaf_nodes=None,\n",
      "                           min_impurity_decrease=0.0, min_samples_leaf=1,\n",
      "                           min_samples_split=2, min_weight_fraction_leaf=0.0,\n",
      "                           n_estimators=100, n_iter_no_change=None,\n",
      "                           random_state=123, subsample=1.0, tol=0.0001,\n",
      "                           validation_fraction=0.1, verbose=0, warm_start=False)\n"
     ]
    }
   ],
   "source": [
    "# Finalize the model (retrains on the full dataset)\n",
    "final_model = finalize_model(best_model)\n",
    "print(final_model)"
   ]
  },
  {
   "cell_type": "code",
   "execution_count": 6,
   "metadata": {},
   "outputs": [
    {
     "name": "stdout",
     "output_type": "stream",
     "text": [
      "Model 'churn-classifier' registered with version 1\n"
     ]
    }
   ],
   "source": [
    "# Register the model\n",
    "model_name = \"churn-classifier\"\n",
    "model_uri = f\"runs:/{get_config('mlflow_run_id')}/model\"\n",
    "\n",
    "registered_model = mlflow.register_model(\n",
    "    model_uri=model_uri,\n",
    "    name=model_name\n",
    ")\n",
    "\n",
    "print(f\"Model '{model_name}' registered with version {registered_model.version}\")"
   ]
  },
  {
   "cell_type": "markdown",
   "metadata": {},
   "source": [
    "Now, if you go back to the MLflow UI and click on the **Models** tab, you will see your newly registered `churn-classifier` model. This is the model we will serve in the next lab."
   ]
  },
  {
   "cell_type": "markdown",
   "metadata": {},
   "source": [
    "### 8. Conclusion\n",
    "\n",
    "In this lab, you saw the power of AutoML with PyCaret. You were able to train, evaluate, and select the best model from a wide variety of candidates with just a few lines of code. You also saw how MLflow can be seamlessly integrated to keep track of all your experiments.\n",
    "\n",
    "In Lab 3, we will take the model we just registered and deploy it as a production-ready API using FastAPI."
   ]
  }
 ],
 "metadata": {
  "kernelspec": {
   "display_name": "Python 3",
   "language": "python",
   "name": "python3"
  },
  "language_info": {
   "codemirror_mode": {
    "name": "ipython",
    "version": 3
   },
   "file_extension": ".py",
   "mimetype": "text/x-python",
   "name": "python",
   "nbconvert_exporter": "python",
   "pygments_lexer": "ipython3",
   "version": "3.9.7"
  }
 },
 "nbformat": 4,
 "nbformat_minor": 4
}
