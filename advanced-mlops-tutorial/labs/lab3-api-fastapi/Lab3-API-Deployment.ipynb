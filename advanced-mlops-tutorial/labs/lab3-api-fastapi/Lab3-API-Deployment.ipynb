{
 "cells": [
  {
   "cell_type": "markdown",
   "metadata": {},
   "source": [
    "# Lab 3: Deploying the Model as a FastAPI Microservice\n",
    "\n",
    "Welcome to Lab 3! We have trained and registered a model. Now it's time to deploy it. In this lab, we will wrap our model in a **FastAPI** microservice, making it accessible via an API. We'll also build in resilience using a **circuit breaker**."
   ]
  },
  {
   "cell_type": "markdown",
   "metadata": {},
   "source": [
    "## Learning Objectives\n",
    "\n",
    "By the end of this lab, you will be able to:\n",
    "- Understand the principles of serving models via a REST API.\n",
    "- Build a high-performance API using FastAPI.\n",
    "- Load a model directly from the MLflow Model Registry.\n",
    "- Implement the circuit breaker pattern to make your service more resilient.\n",
    "- Use automatic API documentation to test your endpoint."
   ]
  },
  {
   "cell_type": "markdown",
   "metadata": {},
   "source": [
    "### 1. Setup: Installing Dependencies\n",
    "\n",
    "For this lab, we need `fastapi` to build the API, `uvicorn` to run it, `pydantic` for data validation, `pybreaker` for the circuit breaker, and `mlflow` and `scikit-learn` to load and use our model."
   ]
  },
  {
   "cell_type": "code",
   "execution_count": null,
   "metadata": {},
   "outputs": [],
   "source": [
    "%pip install fastapi uvicorn pydantic pybreaker mlflow \"scikit-learn~=1.0.0\""
   ]
  },
  {
   "cell_type": "markdown",
   "metadata": {},
   "source": [
    "**Note on Scikit-Learn Version:** It's crucial that the Python environment running the API has the same major/minor version of `scikit-learn` that was used to train the model. Mismatched versions can cause errors when loading the model. PyCaret often uses a specific version, so we pin it here to be safe."
   ]
  },
  {
   "cell_type": "markdown",
   "metadata": {},
   "source": [
    "### 2. Key Concepts\n",
    "\n",
    "#### What is FastAPI?\n",
    "FastAPI is a modern, high-performance web framework for building APIs with Python. It's built on standards like OpenAPI and JSON Schema, which means you get automatic, interactive API documentation (like Swagger UI) for free.\n",
    "\n",
    "#### What is a Circuit Breaker?\n",
    "A circuit breaker is a design pattern used to detect failures and prevent a failing service from being constantly called. Imagine our API can't reach the MLflow server to load the model. Instead of timing out on every request, the circuit breaker will \"trip\" after a few failures. Once tripped, all subsequent requests will fail immediately for a set period, giving the failing service (MLflow) time to recover. This makes our API more resilient and responsive."
   ]
  },
  {
   "cell_type": "markdown",
   "metadata": {},
   "source": [
    "### 3. IMPORTANT: Prepare the Model in MLflow\n",
    "\n",
    "Our API is configured to load the model from the **\"Production\"** stage in the MLflow Model Registry. Before you can run the API, you must promote your model to this stage.\n",
    "\n",
    "1. **Start the MLflow UI** if it's not already running (`mlflow ui` from the project root).\n",
    "2. **Go to the \"Models\" tab** and click on your `churn-classifier` model.\n",
    "3. **Select the latest version** (e.g., Version 1).\n",
    "4. In the top right, find the **\"Stage\"** dropdown.\n",
    "5. **Select \"Transition to Production\"** and add an optional comment. \n",
    "\n",
    "Once this is done, your model is ready to be served by the API."
   ]
  },
  {
   "cell_type": "markdown",
   "metadata": {},
   "source": [
    "### 4. The FastAPI Application (`app/main.py`)\n",
    "\n",
    "The complete code for our API is in the `app/main.py` file. We will not run it in this notebook, but we will break down its key components here. Please open the file and follow along."
   ]
  },
  {
   "cell_type": "markdown",
   "metadata": {},
   "source": [
    "#### 4.1 Pydantic Input Model\n",
    "To ensure that the data sent to our API is valid, we define a Pydantic model. It specifies the data types and structure of the input JSON.\n",
    "```python\n",
    "# From app/main.py\n",
    "class CustomerFeatures(BaseModel):\n",
    "    Age: int\n",
    "    Tenure: int\n",
    "    Balance: float\n",
    "    NumOfProducts: int\n",
    "    HasCrCard: int\n",
    "    IsActiveMember: int\n",
    "    EstimatedSalary: float\n",
    "    Gender: str\n",
    "    Geography: str\n",
    "```"
   ]
  },
  {
   "cell_type": "markdown",
   "metadata": {},
   "source": [
    "#### 4.2 Loading the Model with a Circuit Breaker\n",
    "We define a function to load the model from MLflow and wrap it with the `@model_breaker` decorator. If this function fails 3 times in a row, the breaker will trip and won't try again for 60 seconds.\n",
    "```python\n",
    "# From app/main.py\n",
    "model_breaker = CircuitBreaker(fail_max=3, reset_timeout=60)\n",
    "model = None\n",
    "\n",
    "@model_breaker\n",
    "def load_model():\n",
    "    global model\n",
    "    model_uri = f\"models:/{MODEL_NAME}/{MODEL_STAGE}\"\n",
    "    model = mlflow.pyfunc.load_model(model_uri)\n",
    "```"
   ]
  },
  {
   "cell_type": "markdown",
   "metadata": {},
   "source": [
    "#### 4.3 The Prediction Endpoint\n",
    "This is the core of our API. It's a POST endpoint at `/predict` that takes the `CustomerFeatures` as input, performs the same feature engineering as in training, and returns the model's prediction.\n",
    "```python\n",
    "# From app/main.py\n",
    "@app.post(\"/predict\", tags=[\"Prediction\"])\n",
    "def predict_churn(features: CustomerFeatures):\n",
    "    # ... (error handling for model loading) ...\n",
    "    input_dict = features.dict()\n",
    "    # Feature engineering must match training!\n",
    "    input_dict['BalanceSalaryRatio'] = input_dict['Balance'] / (input_dict['EstimatedSalary'] + 0.01)\n",
    "    input_df = pd.DataFrame([input_dict])\n",
    "    prediction = model.predict(input_df)\n",
    "    churn_status = \"Churn\" if int(prediction[0]) == 1 else \"Stay\"\n",
    "    return {\n",
    "        \"prediction\": churn_status,\n",
    "        \"prediction_label\": int(prediction[0])\n",
    "    }\n",
    "```"
   ]
  },
  {
   "cell_type": "markdown",
   "metadata": {},
   "source": [
    "### 5. Running and Interacting with the API\n",
    "\n",
    "Now, let's run our API and test it."
   ]
  },
  {
   "cell_type": "markdown",
   "metadata": {},
   "source": [
    "#### 5.1 Run the API Server\n",
    "1. **Open a new terminal or command prompt.**\n",
    "2. **Navigate to the `app` directory of this lab:** `cd advanced-mlops-tutorial/labs/lab3-api-fastapi/app`\n",
    "3. **Run the command:** `uvicorn main:app --reload`\n",
    "\n",
    "You should see output indicating that the server is running."
   ]
  },
  {
   "cell_type": "markdown",
   "metadata": {},
   "source": [
    "#### 5.2 Use the Interactive Docs (Swagger UI)\n",
    "1. **Open your browser** and go to `http://localhost:8000/docs`.\n",
    "2. You will see the interactive Swagger UI for your API.\n",
    "3. **Expand the `/predict` endpoint** and click **\"Try it out\"**.\n",
    "4. **Fill in the example JSON** with some customer data.\n",
    "5. Click **\"Execute\"**. You should see the prediction response from the API!\n",
    "\n",
    "This is one of FastAPI's most powerful features for development and testing."
   ]
  },
  {
   "cell_type": "markdown",
   "metadata": {},
   "source": [
    "### 6. Conclusion\n",
    "\n",
    "Fantastic! You have successfully deployed your machine learning model as a robust, production-ready microservice. You've learned how to serve models via an API, handle data validation, and build in resilience.\n",
    "\n",
    "In the final lab, we will address a crucial question: How do we know if our deployed model is still performing well over time? We will explore model monitoring and drift detection."
   ]
  }
 ],
 "metadata": {
  "kernelspec": {
   "display_name": "Python 3",
   "language": "python",
   "name": "python3"
  },
  "language_info": {
   "codemirror_mode": {
    "name": "ipython",
    "version": 3
   },
   "file_extension": ".py",
   "mimetype": "text/x-python",
   "name": "python",
   "nbconvert_exporter": "python",
   "pygments_lexer": "ipython3",
   "version": "3.9.7"
  }
 },
 "nbformat": 4,
 "nbformat_minor": 4
}
